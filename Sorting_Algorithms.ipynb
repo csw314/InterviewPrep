{
  "nbformat": 4,
  "nbformat_minor": 0,
  "metadata": {
    "colab": {
      "provenance": [],
      "authorship_tag": "ABX9TyP/bIre2RyG9yfS2sUlqXXK",
      "include_colab_link": true
    },
    "kernelspec": {
      "name": "python3",
      "display_name": "Python 3"
    },
    "language_info": {
      "name": "python"
    }
  },
  "cells": [
    {
      "cell_type": "markdown",
      "metadata": {
        "id": "view-in-github",
        "colab_type": "text"
      },
      "source": [
        "<a href=\"https://colab.research.google.com/github/csw314/InterviewPrep/blob/main/Sorting_Algorithms.ipynb\" target=\"_parent\"><img src=\"https://colab.research.google.com/assets/colab-badge.svg\" alt=\"Open In Colab\"/></a>"
      ]
    },
    {
      "cell_type": "markdown",
      "source": [
        "# Sorting Notebook!\n",
        "\n",
        "In this notebook, I will code from scratch several common sorting algorithms."
      ],
      "metadata": {
        "id": "Ivg_6-rRXz70"
      }
    },
    {
      "cell_type": "markdown",
      "source": [
        "### Bubble Sort\n",
        "\n",
        "The bubble sort algorithm takes an unsorted list and orders it into ascending values."
      ],
      "metadata": {
        "id": "4CiYrBppYCUV"
      }
    },
    {
      "cell_type": "code",
      "execution_count": 18,
      "metadata": {
        "id": "f_fQq4ndXyqY"
      },
      "outputs": [],
      "source": [
        "def bubble_sort(arr):\n",
        "  sorted = False\n",
        "  while not sorted:\n",
        "    sorted = True\n",
        "    for i in range(0, len(arr)-1):\n",
        "      if arr[i] > arr[i + 1]:\n",
        "        arr[i], arr[i + 1] = arr[i + 1], arr[i]\n",
        "        sorted = False\n",
        "\n",
        "  return arr\n",
        "\n"
      ]
    },
    {
      "cell_type": "code",
      "source": [
        "import unittest\n",
        "class TestBubbleSort(unittest.TestCase):\n",
        "\n",
        "    def test_empty_list(self):\n",
        "        self.assertEqual(bubble_sort([]), [])\n",
        "\n",
        "    def test_sorted_list(self):\n",
        "        self.assertEqual(bubble_sort([1, 2, 3, 4, 5]), [1, 2, 3, 4, 5])\n",
        "\n",
        "    def test_reverse_sorted_list(self):\n",
        "        self.assertEqual(bubble_sort([5, 4, 3, 2, 1]), [1, 2, 3, 4, 5])\n",
        "\n",
        "    def test_unsorted_list(self):\n",
        "        self.assertEqual(bubble_sort([3, 1, 4, 1, 5, 9, 2, 6]), [1, 1, 2, 3, 4, 5, 6, 9])\n",
        "\n",
        "    def test_duplicate_elements(self):\n",
        "        self.assertEqual(bubble_sort([1, 1, 1, 1, 2, 2, 3, 3, 6, 6, 6, 5, 5, 5, 3, 3, 3, 3, 2, 2, 2]), [1, 1, 1, 1, 2, 2, 2, 2, 2, 3, 3, 3, 3, 3, 3, 5, 5, 5, 6, 6, 6])\n",
        "\n",
        "    def test_negative_numbers(self):\n",
        "      self.assertEqual(bubble_sort([-1, -5, 0, 2, 4]), [-5, -1, 0, 2, 4])\n",
        "\n",
        "    def test_single_element(self):\n",
        "      self.assertEqual(bubble_sort([5]), [5])\n",
        "\n",
        "if __name__ == '__main__':\n",
        "    unittest.main(argv=['first-arg-is-ignored'], exit=False)"
      ],
      "metadata": {
        "colab": {
          "base_uri": "https://localhost:8080/"
        },
        "id": "_P0R3IrYzS8B",
        "outputId": "752a978f-f6f1-4467-ed71-f78efcc92144"
      },
      "execution_count": 28,
      "outputs": [
        {
          "output_type": "stream",
          "name": "stderr",
          "text": [
            ".......\n",
            "----------------------------------------------------------------------\n",
            "Ran 7 tests in 0.014s\n",
            "\n",
            "OK\n"
          ]
        }
      ]
    },
    {
      "cell_type": "markdown",
      "source": [
        "### Selection Sort\n",
        "\n",
        "The selection sort algorithm also takes an unsorted list and orders it into ascending values\n"
      ],
      "metadata": {
        "id": "GHvmwaYq1On8"
      }
    },
    {
      "cell_type": "code",
      "source": [
        "def selection_sort(arr):\n",
        "  sorted = []\n",
        "  min_"
      ],
      "metadata": {
        "id": "vZm-CCKl1aaS"
      },
      "execution_count": null,
      "outputs": []
    }
  ]
}