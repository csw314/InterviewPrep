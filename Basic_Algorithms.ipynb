{
  "nbformat": 4,
  "nbformat_minor": 0,
  "metadata": {
    "colab": {
      "provenance": [],
      "authorship_tag": "ABX9TyMrGFrvYebauJ/XH/Cp9H1e",
      "include_colab_link": true
    },
    "kernelspec": {
      "name": "python3",
      "display_name": "Python 3"
    },
    "language_info": {
      "name": "python"
    }
  },
  "cells": [
    {
      "cell_type": "markdown",
      "metadata": {
        "id": "view-in-github",
        "colab_type": "text"
      },
      "source": [
        "<a href=\"https://colab.research.google.com/github/csw314/InterviewPrep/blob/main/Basic_Algorithms.ipynb\" target=\"_parent\"><img src=\"https://colab.research.google.com/assets/colab-badge.svg\" alt=\"Open In Colab\"/></a>"
      ]
    },
    {
      "cell_type": "markdown",
      "source": [
        "Write Binary Search Algorithm From Scratch in Python"
      ],
      "metadata": {
        "id": "9MNPe99bPYV2"
      }
    },
    {
      "cell_type": "code",
      "execution_count": 2,
      "metadata": {
        "id": "LhsVm9cXPW21"
      },
      "outputs": [],
      "source": [
        "def binary_search(arr, target):\n",
        "  left = 0\n",
        "  right = len(arr) - 1\n",
        "  mid = 0\n",
        "  while left <= right:\n",
        "    mid = (left + right) // 2\n",
        "    if arr[mid] == target:\n",
        "      return mid\n",
        "    elif arr[mid] < target:\n",
        "      left = mid + 1\n",
        "    else:\n",
        "      right = mid - 1\n",
        "  return -1"
      ]
    },
    {
      "cell_type": "markdown",
      "source": [
        "Test the binary_search() function!"
      ],
      "metadata": {
        "id": "C3s1Wc88QY1Z"
      }
    },
    {
      "cell_type": "code",
      "source": [
        "import unittest\n",
        "class TestBinarySearch(unittest.TestCase):\n",
        "\n",
        "    def test_target_present(self):\n",
        "        arr = [2, 5, 7, 8, 11, 12]\n",
        "        target = 11\n",
        "        self.assertEqual(binary_search(arr, target), 4)\n",
        "\n",
        "    def test_target_absent(self):\n",
        "        arr = [2, 5, 7, 8, 11, 12]\n",
        "        target = 13\n",
        "        self.assertEqual(binary_search(arr, target), -1)\n",
        "\n",
        "    def test_empty_array(self):\n",
        "        arr = []\n",
        "        target = 5\n",
        "        self.assertEqual(binary_search(arr, target), -1)\n",
        "\n",
        "    def test_single_element_array_present(self):\n",
        "        arr = [5]\n",
        "        target = 5\n",
        "        self.assertEqual(binary_search(arr, target), 0)\n",
        "\n",
        "    def test_single_element_array_absent(self):\n",
        "        arr = [5]\n",
        "        target = 10\n",
        "        self.assertEqual(binary_search(arr, target), -1)\n",
        "\n",
        "    def test_duplicate_elements(self):\n",
        "        arr = [2, 5, 5, 7, 8, 11, 12]\n",
        "        target = 5\n",
        "        self.assertIn(binary_search(arr, target), [1,2])\n",
        "\n",
        "\n",
        "if __name__ == '__main__':\n",
        "    unittest.main(argv=['first-arg-is-ignored'], exit=False)"
      ],
      "metadata": {
        "id": "UOyTiameT6wG",
        "outputId": "86722d75-6d22-4fa1-c8fc-c595f7669d98",
        "colab": {
          "base_uri": "https://localhost:8080/"
        }
      },
      "execution_count": 3,
      "outputs": [
        {
          "output_type": "stream",
          "name": "stderr",
          "text": [
            "......\n",
            "----------------------------------------------------------------------\n",
            "Ran 6 tests in 0.014s\n",
            "\n",
            "OK\n"
          ]
        }
      ]
    }
  ]
}