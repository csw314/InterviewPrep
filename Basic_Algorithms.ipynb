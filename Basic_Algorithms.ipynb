{
  "nbformat": 4,
  "nbformat_minor": 0,
  "metadata": {
    "colab": {
      "provenance": [],
      "authorship_tag": "ABX9TyMlTZ1p+TUm3b6RbsPiFyih",
      "include_colab_link": true
    },
    "kernelspec": {
      "name": "python3",
      "display_name": "Python 3"
    },
    "language_info": {
      "name": "python"
    }
  },
  "cells": [
    {
      "cell_type": "markdown",
      "metadata": {
        "id": "view-in-github",
        "colab_type": "text"
      },
      "source": [
        "<a href=\"https://colab.research.google.com/github/csw314/InterviewPrep/blob/main/Basic_Algorithms.ipynb\" target=\"_parent\"><img src=\"https://colab.research.google.com/assets/colab-badge.svg\" alt=\"Open In Colab\"/></a>"
      ]
    },
    {
      "cell_type": "markdown",
      "source": [
        "Write Binary Search Algorithm From Scratch in Python"
      ],
      "metadata": {
        "id": "9MNPe99bPYV2"
      }
    },
    {
      "cell_type": "code",
      "execution_count": 1,
      "metadata": {
        "id": "LhsVm9cXPW21"
      },
      "outputs": [],
      "source": [
        "def binary_search(arr, target):\n",
        "  left = 0\n",
        "  right = len(arr) - 1\n",
        "  mid = 0\n",
        "  while left <= right:\n",
        "    mid = (left + right) // 2\n",
        "    if arr[mid] == target:\n",
        "      return mid\n",
        "    elif arr[mid] < target:\n",
        "      left = mid + 1\n",
        "    else:\n",
        "      right = mid - 1\n",
        "  return -1"
      ]
    },
    {
      "cell_type": "markdown",
      "source": [
        "Test the binary_search() function!"
      ],
      "metadata": {
        "id": "C3s1Wc88QY1Z"
      }
    },
    {
      "cell_type": "code",
      "source": [
        "test_arr1 = [1, 2, 3, 4, 5, 6, 7, 8, 9]\n",
        "test_target1 = 10\n",
        "if test_target1 in test_arr1:\n",
        "  print(\"Expected Value: \", test_arr1.index(test_target1))\n",
        "else:\n",
        "  print(\"Expected Value: \", -1)\n",
        "print(\"Returned Value: \", binary_search(test_arr1, test_target1))"
      ],
      "metadata": {
        "colab": {
          "base_uri": "https://localhost:8080/"
        },
        "id": "BqYB6wJhQYUC",
        "outputId": "e4304e13-5ece-43cd-941e-6dc6cc60f780"
      },
      "execution_count": 5,
      "outputs": [
        {
          "output_type": "stream",
          "name": "stdout",
          "text": [
            "Expected Value:  -1\n",
            "Returned Value:  -1\n"
          ]
        }
      ]
    },
    {
      "cell_type": "code",
      "source": [],
      "metadata": {
        "id": "q_cfH64AQ3lm"
      },
      "execution_count": null,
      "outputs": []
    }
  ]
}