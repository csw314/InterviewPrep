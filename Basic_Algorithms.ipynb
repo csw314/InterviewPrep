{
  "nbformat": 4,
  "nbformat_minor": 0,
  "metadata": {
    "colab": {
      "provenance": [],
      "authorship_tag": "ABX9TyO128a1L7dsSEjtxa7Cg8jC",
      "include_colab_link": true
    },
    "kernelspec": {
      "name": "python3",
      "display_name": "Python 3"
    },
    "language_info": {
      "name": "python"
    }
  },
  "cells": [
    {
      "cell_type": "markdown",
      "metadata": {
        "id": "view-in-github",
        "colab_type": "text"
      },
      "source": [
        "<a href=\"https://colab.research.google.com/github/csw314/InterviewPrep/blob/main/Basic_Algorithms.ipynb\" target=\"_parent\"><img src=\"https://colab.research.google.com/assets/colab-badge.svg\" alt=\"Open In Colab\"/></a>"
      ]
    },
    {
      "cell_type": "markdown",
      "source": [
        "Write Binary Search Algorithm From Scratch in Python"
      ],
      "metadata": {
        "id": "9MNPe99bPYV2"
      }
    },
    {
      "cell_type": "code",
      "execution_count": null,
      "metadata": {
        "id": "LhsVm9cXPW21"
      },
      "outputs": [],
      "source": [
        "def binary_search(arr, target):\n",
        "  left = 0\n",
        "  right = len(arr) - 1\n",
        "  mid = 0\n",
        "  while left <= right:\n",
        "    mid = (left + right) // 2\n",
        "    if arr[mid] == target:\n",
        "      return mid\n",
        "    elif arr[mid] < target:\n",
        "      left = mid + 1\n",
        "    else:\n",
        "      right = mid - 1\n",
        "  return -1"
      ]
    },
    {
      "cell_type": "markdown",
      "source": [
        "Test the binary_search() function!"
      ],
      "metadata": {
        "id": "C3s1Wc88QY1Z"
      }
    },
    {
      "cell_type": "code",
      "source": [
        "test_arr1 = [1, 2, 3, 4, 5, 6, 7, 8, 9]\n",
        "test_target1 = 10\n",
        "if test_target1 in test_arr1:\n",
        "  print(\"Expected Value: \", test_arr1.index(test_target1))\n",
        "else:\n",
        "  print(\"Expected Value: \", -1)\n",
        "print(\"Returned Value: \", binary_search(test_arr1, test_target1))"
      ],
      "metadata": {
        "colab": {
          "base_uri": "https://localhost:8080/"
        },
        "id": "BqYB6wJhQYUC",
        "outputId": "e4304e13-5ece-43cd-941e-6dc6cc60f780"
      },
      "execution_count": null,
      "outputs": [
        {
          "output_type": "stream",
          "name": "stdout",
          "text": [
            "Expected Value:  -1\n",
            "Returned Value:  -1\n"
          ]
        }
      ]
    },
    {
      "cell_type": "markdown",
      "source": [
        "### Depth-First Search\n",
        "\n",
        "Depth-first search (DFS) is a graph traversal algorithm. Given a starting point (also called a “source” node), DFS explores as far as possible along each branch (path) before “backtracking” and exploring other branches. This is in contrast to Breadth-First Search (BFS), which explores neighbors of a node first before going deeper.\n",
        "\n",
        "**Key Ideas**\n",
        "1. Go Deep: From the starting node, pick a neighbor to explore, then move to that neighbor’s neighbor, and so on—going deeper until you cannot continue\n",
        "2. Backtrack: When you reach a node that has no unvisited neighbors, you go back (“backtrack”) to the previous node and look for other unvisited neighbors.\n",
        "3. Visited Set: To avoid visiting the same node multiple times and getting stuck in cycles, keep track of the nodes you have already visited.\n",
        "4. Stack (or Recursion): DFS can be implemented using a stack data structure explicitly or by using recursion (which implicitly uses the call stack).\n",
        "\n",
        "**Conceptual Steps**\n",
        "1. Choose a starting node in the graph.\n",
        "2. Mark the starting node as visited (for example, by adding it to a visited set).\n",
        "3. Explore one neighbor of that node that is not yet visited:\n",
        "  - Recursively call DFS on the unvisited neighbor (or push it onto a stack if using an iterative approach).\n",
        "4. Repeat until:\n",
        "  - You have visited all nodes reachable from the start.\n",
        "Or, if you need to visit every node in a potentially disconnected graph, you would call DFS on each unvisited node from a global perspective.\n",
        "\n",
        "**Graph Representation**\n",
        "Before coding DFS, you typically need a way to represent your graph. Common representations include:\n",
        "\n",
        "- Adjacency List: A dictionary (in Python) or list of lists, where graph[u] contains a list of neighbors of u.\n",
        "- Adjacency Matrix: A 2D array/matrix where each cell (u, v) indicates whether there is an edge from u to v. (This is less common in Python due to memory usage unless your graph is dense.)\n",
        "For clarity, we’ll use an adjacency list representation."
      ],
      "metadata": {
        "id": "MZvbZSzP5JJT"
      }
    },
    {
      "cell_type": "code",
      "source": [
        "# Example of an adjacency list:\n",
        "# Graph structure:\n",
        "#    A\n",
        "#   / \\\n",
        "#  B   C\n",
        "#  |   |\n",
        "#  D - E\n",
        "\n",
        "graph = {\n",
        "    'A': ['B', 'C'],\n",
        "    'B': ['A', 'D'],\n",
        "    'C': ['A', 'E'],\n",
        "    'D': ['B', 'E'],\n",
        "    'E': ['C', 'D']\n",
        "}"
      ],
      "metadata": {
        "id": "q_cfH64AQ3lm"
      },
      "execution_count": null,
      "outputs": []
    },
    {
      "cell_type": "markdown",
      "source": [
        "### Recursive DFS\n",
        "\n",
        "Pseudocode"
      ],
      "metadata": {
        "id": "xeu8Ytm453HJ"
      }
    },
    {
      "cell_type": "code",
      "source": [
        "function DFS(node):\n",
        "    mark node as visited\n",
        "    for each neighbor of node:\n",
        "        if neighbor is not visited:\n",
        "            DFS(neighbor)"
      ],
      "metadata": {
        "id": "MR_9P7Tx58O6"
      },
      "execution_count": null,
      "outputs": []
    },
    {
      "cell_type": "markdown",
      "source": [
        "### Example Code:"
      ],
      "metadata": {
        "id": "CeuIQnjw6AXL"
      }
    },
    {
      "cell_type": "code",
      "source": [
        "def dfs_recursive(graph, start, visited=None):\n",
        "    if visited is None:\n",
        "        visited = set()  # Initialize visited set if not provided\n",
        "\n",
        "    # Mark the current node as visited\n",
        "    visited.add(start)\n",
        "    print(start, end=' ')  # For demonstration, we print the node\n",
        "\n",
        "    # Explore neighbors of the current node\n",
        "    for neighbor in graph[start]:\n",
        "        if neighbor not in visited:\n",
        "            dfs_recursive(graph, neighbor, visited)\n",
        "\n",
        "    return visited\n",
        "\n",
        "\n",
        "# Usage:\n",
        "graph = {\n",
        "    'A': ['B', 'C'],\n",
        "    'B': ['A', 'D'],\n",
        "    'C': ['A', 'E'],\n",
        "    'D': ['B', 'E'],\n",
        "    'E': ['C', 'D']\n",
        "}\n",
        "\n",
        "visited_nodes = dfs_recursive(graph, 'A')\n",
        "print(\"\\nVisited order:\", visited_nodes)\n"
      ],
      "metadata": {
        "id": "tFNMMX4w6DAn"
      },
      "execution_count": null,
      "outputs": []
    },
    {
      "cell_type": "markdown",
      "source": [
        "**Explanation of the Recursive Approach**\n",
        "\n",
        "1. We define a function dfs_recursive that takes the graph, a starting node, and an optional visited set.\n",
        "2. If visited is not passed, we create a new empty set (this happens only once, at the beginning).\n",
        "3. We add the starting node to the visited set.\n",
        "4. We iterate over each neighbor of the starting node in the adjacency list.\n",
        "5. If a neighbor has not been visited, we recursively call dfs_recursive on it.\n",
        "6. The recursion will explore as deep as possible along each path. Once a path is fully explored (no more new nodes), the function call “unwinds” back to the previous call, continuing until no unvisited neighbors remain.\n",
        "7. Eventually, all reachable nodes from the start are visited. We return the visited set for clarity."
      ],
      "metadata": {
        "id": "WzZUt0u26GTY"
      }
    },
    {
      "cell_type": "markdown",
      "source": [
        "### Iterative DFS in Python\n",
        "\n",
        "Some interviews might ask you to implement DFS without recursion (for example, if there is a risk of a stack overflow in a large graph or just to demonstrate your understanding of manual stack usage). In this case, you use an explicit stack data structure.\n",
        "\n",
        "Pseudocode:"
      ],
      "metadata": {
        "id": "GNv0ljTM6VFt"
      }
    },
    {
      "cell_type": "code",
      "source": [
        "function DFS_iterative(start):\n",
        "    initialize stack with the start node\n",
        "    mark start as visited\n",
        "    while stack is not empty:\n",
        "        current = pop top of stack\n",
        "        for each neighbor of current:\n",
        "            if neighbor is not visited:\n",
        "                mark neighbor as visited\n",
        "                push neighbor onto stack"
      ],
      "metadata": {
        "id": "KtN2bMLS6Urm"
      },
      "execution_count": null,
      "outputs": []
    },
    {
      "cell_type": "markdown",
      "source": [
        "### Example Code"
      ],
      "metadata": {
        "id": "DT11RcAT6elq"
      }
    },
    {
      "cell_type": "code",
      "source": [
        "def dfs_iterative(graph, start):\n",
        "    visited = set()\n",
        "    stack = [start]  # Initialize stack with the start node\n",
        "\n",
        "    while stack:\n",
        "        current = stack.pop()\n",
        "        if current not in visited:\n",
        "            visited.add(current)\n",
        "            print(current, end=' ')\n",
        "\n",
        "            # Add neighbors in reverse order if you want\n",
        "            # to visit them in a specific order next\n",
        "            for neighbor in reversed(graph[current]):\n",
        "                if neighbor not in visited:\n",
        "                    stack.append(neighbor)\n",
        "\n",
        "    return visited\n",
        "\n",
        "# Usage:\n",
        "graph = {\n",
        "    'A': ['B', 'C'],\n",
        "    'B': ['A', 'D'],\n",
        "    'C': ['A', 'E'],\n",
        "    'D': ['B', 'E'],\n",
        "    'E': ['C', 'D']\n",
        "}\n",
        "\n",
        "visited_nodes = dfs_iterative(graph, 'A')\n",
        "print(\"\\nVisited order:\", visited_nodes)\n"
      ],
      "metadata": {
        "id": "fErrFxqf6iFw"
      },
      "execution_count": null,
      "outputs": []
    },
    {
      "cell_type": "markdown",
      "source": [
        "**Explanation of the Iterative Approach**\n",
        "1. We keep a stack (a Python list used in LIFO—Last In, First Out—manner).\n",
        "2. Push the starting node onto the stack.\n",
        "3. While the stack is not empty, pop the top element.\n",
        "4. If it’s not visited, mark it visited.\n",
        "5. Push its unvisited neighbors onto the stack.\n",
        "6. Continue until the stack is empty, meaning there are no more nodes to explore."
      ],
      "metadata": {
        "id": "uko02Y5a6m0H"
      }
    },
    {
      "cell_type": "markdown",
      "source": [
        "##### Key Points to Remember for Interviews\n",
        "- DFS is particularly good at:\n",
        "  - Finding a path between two nodes.\n",
        "  - Detecting cycles in a graph.\n",
        "  - Topological sorting in directed acyclic graphs.\n",
        "- You must keep track of visited nodes to avoid infinite loops, especially in graphs with cycles.\n",
        "- The difference between recursive DFS and iterative DFS is mainly where the “stack” lives— either as part of function calls (recursive) or explicitly in your code (iterative).\n",
        "- Be mindful of the order in which you visit neighbors. If the interviewer asks for a particular ordering (e.g., ascending order of neighbors), you might need to sort the adjacency list or reverse it before pushing to the stack/recursing."
      ],
      "metadata": {
        "id": "2w3PMv4P6w97"
      }
    }
  ]
}